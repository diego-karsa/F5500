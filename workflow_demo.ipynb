{
 "cells": [
  {
   "cell_type": "markdown",
   "metadata": {},
   "source": [
    "## F5500 Python Module\n",
    "\n",
    "The F5500 python module makes it easier to download, store, read and manage the F5500 datasets published by the Department of Labor. The project is a work in progress.\n",
    "\n",
    "This notebook is meant to show how a basic workflow using the module might look like.\n",
    "\n",
    "To install the module run **pip install ./f5500** in the terminal.\n",
    "\n",
    "To start, import the required libraries."
   ]
  },
  {
   "cell_type": "code",
   "execution_count": 2,
   "metadata": {},
   "outputs": [],
   "source": [
    "import f5500\n",
    "import pandas as pd\n",
    "import matplotlib.pyplot as plt"
   ]
  },
  {
   "cell_type": "markdown",
   "metadata": {},
   "source": [
    "Use the module's **download** function to download specific schedules."
   ]
  },
  {
   "cell_type": "code",
   "execution_count": 3,
   "metadata": {},
   "outputs": [
    {
     "name": "stdout",
     "output_type": "stream",
     "text": [
      "Downloading '5500_2021_Latest'...\n",
      "\u001b[32mDownload complete.\u001b[0m\n",
      "    Date of modification: 2023-12-25\n",
      "    File already exists in folder. Overwriting...\n",
      "Downloading 'SCH_SB_2021_Latest'...\n",
      "\u001b[32mDownload complete.\u001b[0m\n",
      "    Date of modification: 2023-12-25\n",
      "    File already exists in folder. Overwriting...\n",
      "Downloading 'SCH_H_2021_Latest'...\n",
      "\u001b[32mDownload complete.\u001b[0m\n",
      "    Date of modification: 2023-12-25\n",
      "    File already exists in folder. Overwriting...\n"
     ]
    }
   ],
   "source": [
    "schedules_to_download = [\"5500\", \"SCH_SB\", \"SCH_H\"]\n",
    "\n",
    "data = {}\n",
    "\n",
    "for schedule in schedules_to_download:\n",
    "        data[schedule] = f5500.download(schedule=schedule, year=\"2021\", modality=\"Latest\", overwrite=True, archive=\"Datasets\")"
   ]
  },
  {
   "cell_type": "markdown",
   "metadata": {},
   "source": [
    "Check the newly created \"Datasets\" folder. Downloaded datasets will have been sent to a subfolder named after the datasets' upload date to the DOL's site.\n",
    "\n",
    "If the data had already been downloaded, we could just **read** it from the local archive. If there's more than one version of the dataset downloaded we can specify which we want to use with argument **mod_date** (or default to \"Latest\")."
   ]
  },
  {
   "cell_type": "code",
   "execution_count": null,
   "metadata": {},
   "outputs": [],
   "source": [
    "for schedule in schedules_to_download:\n",
    "    data[schedule] = f5500.read(schedule=schedule, year='2021', modality='Latest', mod_date='Latest', archive='Datasets')"
   ]
  },
  {
   "cell_type": "markdown",
   "metadata": {},
   "source": [
    "Merge main 5500 form to Schedules H and SB:"
   ]
  },
  {
   "cell_type": "code",
   "execution_count": 7,
   "metadata": {},
   "outputs": [
    {
     "name": "stdout",
     "output_type": "stream",
     "text": [
      "dict_keys(['5500', 'SCH_SB', 'SCH_H', 'merged'])\n"
     ]
    }
   ],
   "source": [
    "data[\"merged\"] = pd.merge(data[\"5500\"],\n",
    "                          data[\"SCH_H\"],\n",
    "                          on=\"ACK_ID\",\n",
    "                          how=\"left\")\n",
    "\n",
    "data[\"merged\"] = pd.merge(data[\"merged\"],\n",
    "                          data[\"SCH_SB\"],\n",
    "                          on=\"ACK_ID\",\n",
    "                          how=\"left\")\n",
    "\n",
    "print(data.keys())"
   ]
  },
  {
   "cell_type": "markdown",
   "metadata": {},
   "source": [
    "With the data now merged, we can transform and query it to show the 10 largest sponsors by asset size, and their actuaries."
   ]
  },
  {
   "cell_type": "code",
   "execution_count": 34,
   "metadata": {},
   "outputs": [
    {
     "data": {
      "text/html": [
       "<div>\n",
       "<style scoped>\n",
       "    .dataframe tbody tr th:only-of-type {\n",
       "        vertical-align: middle;\n",
       "    }\n",
       "\n",
       "    .dataframe tbody tr th {\n",
       "        vertical-align: top;\n",
       "    }\n",
       "\n",
       "    .dataframe thead th {\n",
       "        text-align: right;\n",
       "    }\n",
       "</style>\n",
       "<table border=\"1\" class=\"dataframe\">\n",
       "  <thead>\n",
       "    <tr style=\"text-align: right;\">\n",
       "      <th></th>\n",
       "      <th>SPONSOR_DFE_NAME</th>\n",
       "      <th>SB_ACTUARY_FIRM_NAME</th>\n",
       "      <th>TYPE_PLAN_ENTITY_CD</th>\n",
       "      <th>Assets</th>\n",
       "      <th>Assets_ratio</th>\n",
       "      <th>Accumulated</th>\n",
       "    </tr>\n",
       "  </thead>\n",
       "  <tbody>\n",
       "    <tr>\n",
       "      <th>5659</th>\n",
       "      <td>THE BOEING CO. AND CONSOLIDATED SUBSIDIARIES</td>\n",
       "      <td>WILLIS TOWERS WATSON US LLC</td>\n",
       "      <td>2.0</td>\n",
       "      <td>$ 67,563,651,657</td>\n",
       "      <td>2.369449</td>\n",
       "      <td>2.369449</td>\n",
       "    </tr>\n",
       "    <tr>\n",
       "      <th>1117</th>\n",
       "      <td>GENERAL ELECTRIC COMPANY</td>\n",
       "      <td>WILLIS TOWERS WATSON US LLC</td>\n",
       "      <td>3.0</td>\n",
       "      <td>$ 61,006,772,240</td>\n",
       "      <td>2.139500</td>\n",
       "      <td>4.508950</td>\n",
       "    </tr>\n",
       "    <tr>\n",
       "      <th>3647</th>\n",
       "      <td>AT&amp;T INC.</td>\n",
       "      <td>AON CONSULTING, INC.</td>\n",
       "      <td>2.0</td>\n",
       "      <td>$ 54,818,712,000</td>\n",
       "      <td>1.922486</td>\n",
       "      <td>6.431436</td>\n",
       "    </tr>\n",
       "    <tr>\n",
       "      <th>604</th>\n",
       "      <td>INTERNATIONAL BUSINESS MACHINES CORPORATION</td>\n",
       "      <td>WILLIS TOWERS WATSON US LLC</td>\n",
       "      <td>2.0</td>\n",
       "      <td>$ 53,231,521,469</td>\n",
       "      <td>1.866823</td>\n",
       "      <td>8.298259</td>\n",
       "    </tr>\n",
       "    <tr>\n",
       "      <th>2260</th>\n",
       "      <td>GENERAL MOTORS LLC</td>\n",
       "      <td>WILLIS TOWERS WATSON US LLC</td>\n",
       "      <td>2.0</td>\n",
       "      <td>$ 48,892,977,680</td>\n",
       "      <td>1.714671</td>\n",
       "      <td>10.012930</td>\n",
       "    </tr>\n",
       "    <tr>\n",
       "      <th>4692</th>\n",
       "      <td>FEDEX CORPORATION</td>\n",
       "      <td>MERCER</td>\n",
       "      <td>2.0</td>\n",
       "      <td>$ 48,805,239,480</td>\n",
       "      <td>1.711594</td>\n",
       "      <td>11.724524</td>\n",
       "    </tr>\n",
       "    <tr>\n",
       "      <th>3144</th>\n",
       "      <td>FORD MOTOR COMPANY</td>\n",
       "      <td>WILLIS TOWERS WATSON US LLC</td>\n",
       "      <td>2.0</td>\n",
       "      <td>$ 46,154,851,864</td>\n",
       "      <td>1.618645</td>\n",
       "      <td>13.343169</td>\n",
       "    </tr>\n",
       "    <tr>\n",
       "      <th>5959</th>\n",
       "      <td>UNITED PARCEL SERVICE OF AMERICA, INC.</td>\n",
       "      <td>WILLIS TOWERS WATSON US LLC</td>\n",
       "      <td>2.0</td>\n",
       "      <td>$ 42,905,226,133</td>\n",
       "      <td>1.504681</td>\n",
       "      <td>14.847850</td>\n",
       "    </tr>\n",
       "    <tr>\n",
       "      <th>5820</th>\n",
       "      <td>KAISER FOUNDATION HEALTH PLAN, INC.</td>\n",
       "      <td>AON CONSULTING, INC.</td>\n",
       "      <td>2.0</td>\n",
       "      <td>$ 38,075,941,703</td>\n",
       "      <td>1.335319</td>\n",
       "      <td>16.183169</td>\n",
       "    </tr>\n",
       "    <tr>\n",
       "      <th>5249</th>\n",
       "      <td>NORTHROP GRUMMAN CORPORATION</td>\n",
       "      <td>WILLIS TOWERS WATSON US LLC</td>\n",
       "      <td>2.0</td>\n",
       "      <td>$ 37,344,149,646</td>\n",
       "      <td>1.309655</td>\n",
       "      <td>17.492824</td>\n",
       "    </tr>\n",
       "  </tbody>\n",
       "</table>\n",
       "</div>"
      ],
      "text/plain": [
       "                                  SPONSOR_DFE_NAME  \\\n",
       "5659  THE BOEING CO. AND CONSOLIDATED SUBSIDIARIES   \n",
       "1117                      GENERAL ELECTRIC COMPANY   \n",
       "3647                                     AT&T INC.   \n",
       "604    INTERNATIONAL BUSINESS MACHINES CORPORATION   \n",
       "2260                            GENERAL MOTORS LLC   \n",
       "4692                             FEDEX CORPORATION   \n",
       "3144                            FORD MOTOR COMPANY   \n",
       "5959        UNITED PARCEL SERVICE OF AMERICA, INC.   \n",
       "5820           KAISER FOUNDATION HEALTH PLAN, INC.   \n",
       "5249                  NORTHROP GRUMMAN CORPORATION   \n",
       "\n",
       "             SB_ACTUARY_FIRM_NAME  TYPE_PLAN_ENTITY_CD            Assets  \\\n",
       "5659  WILLIS TOWERS WATSON US LLC                  2.0  $ 67,563,651,657   \n",
       "1117  WILLIS TOWERS WATSON US LLC                  3.0  $ 61,006,772,240   \n",
       "3647         AON CONSULTING, INC.                  2.0  $ 54,818,712,000   \n",
       "604   WILLIS TOWERS WATSON US LLC                  2.0  $ 53,231,521,469   \n",
       "2260  WILLIS TOWERS WATSON US LLC                  2.0  $ 48,892,977,680   \n",
       "4692                       MERCER                  2.0  $ 48,805,239,480   \n",
       "3144  WILLIS TOWERS WATSON US LLC                  2.0  $ 46,154,851,864   \n",
       "5959  WILLIS TOWERS WATSON US LLC                  2.0  $ 42,905,226,133   \n",
       "5820         AON CONSULTING, INC.                  2.0  $ 38,075,941,703   \n",
       "5249  WILLIS TOWERS WATSON US LLC                  2.0  $ 37,344,149,646   \n",
       "\n",
       "      Assets_ratio  Accumulated  \n",
       "5659      2.369449     2.369449  \n",
       "1117      2.139500     4.508950  \n",
       "3647      1.922486     6.431436  \n",
       "604       1.866823     8.298259  \n",
       "2260      1.714671    10.012930  \n",
       "4692      1.711594    11.724524  \n",
       "3144      1.618645    13.343169  \n",
       "5959      1.504681    14.847850  \n",
       "5820      1.335319    16.183169  \n",
       "5249      1.309655    17.492824  "
      ]
     },
     "execution_count": 34,
     "metadata": {},
     "output_type": "execute_result"
    }
   ],
   "source": [
    "big_plans = (data[\"merged\"]\n",
    "             .query('TYPE_PENSION_BNFT_CODE.str.contains(\"1\", na=False) and TYPE_PLAN_ENTITY_CD != 1')\n",
    "             .groupby(\"SPONS_DFE_EIN\")\n",
    "             .agg({\"TOT_ASSETS_EOY_AMT\": \"sum\",\n",
    "                   \"SPONSOR_DFE_NAME\": \"first\",\n",
    "                   \"SB_ACTUARY_FIRM_NAME\": \"first\",\n",
    "                   \"TYPE_PLAN_ENTITY_CD\": \"first\"})\n",
    "             .assign(\n",
    "                   Assets=lambda df: df[\"TOT_ASSETS_EOY_AMT\"].apply(\"$ {:,.0f}\".format),\n",
    "                   Assets_ratio=lambda df: (df[\"TOT_ASSETS_EOY_AMT\"] / df[\"TOT_ASSETS_EOY_AMT\"].sum() * 100)\n",
    "                   )\n",
    "             .reset_index(drop=True)\n",
    "             .sort_values(\"TOT_ASSETS_EOY_AMT\", ascending=False)\n",
    "             .drop(columns=[\"TOT_ASSETS_EOY_AMT\"])\n",
    "             .assign(Accumulated=lambda df: df[\"Assets_ratio\"].cumsum()))\n",
    "\n",
    "big_plans.head(10)"
   ]
  },
  {
   "cell_type": "markdown",
   "metadata": {},
   "source": [
    "Now we will look at the data from the actuarys' perspective and calculate some figures."
   ]
  },
  {
   "cell_type": "code",
   "execution_count": 31,
   "metadata": {},
   "outputs": [
    {
     "data": {
      "text/html": [
       "<div>\n",
       "<style scoped>\n",
       "    .dataframe tbody tr th:only-of-type {\n",
       "        vertical-align: middle;\n",
       "    }\n",
       "\n",
       "    .dataframe tbody tr th {\n",
       "        vertical-align: top;\n",
       "    }\n",
       "\n",
       "    .dataframe thead th {\n",
       "        text-align: right;\n",
       "    }\n",
       "</style>\n",
       "<table border=\"1\" class=\"dataframe\">\n",
       "  <thead>\n",
       "    <tr style=\"text-align: right;\">\n",
       "      <th></th>\n",
       "      <th>TOT_ASSETS_EOY_AMT</th>\n",
       "      <th>TOT_LIABILITIES_EOY_AMT</th>\n",
       "      <th>TOT_PARTCP_BOY_CNT</th>\n",
       "      <th>SPONS_DFE_EIN</th>\n",
       "      <th>SPONS_DFE_PN</th>\n",
       "      <th>AUM</th>\n",
       "      <th>Parts_ratio</th>\n",
       "      <th>Assets_ratio</th>\n",
       "      <th>aux</th>\n",
       "      <th>ratio</th>\n",
       "    </tr>\n",
       "    <tr>\n",
       "      <th>new_company</th>\n",
       "      <th></th>\n",
       "      <th></th>\n",
       "      <th></th>\n",
       "      <th></th>\n",
       "      <th></th>\n",
       "      <th></th>\n",
       "      <th></th>\n",
       "      <th></th>\n",
       "      <th></th>\n",
       "      <th></th>\n",
       "    </tr>\n",
       "  </thead>\n",
       "  <tbody>\n",
       "    <tr>\n",
       "      <th>AON</th>\n",
       "      <td>7.449697e+11</td>\n",
       "      <td>5.412642e+09</td>\n",
       "      <td>5481861.0</td>\n",
       "      <td>594</td>\n",
       "      <td>749</td>\n",
       "      <td>7.449697e+11</td>\n",
       "      <td>30.58%</td>\n",
       "      <td>31.29%</td>\n",
       "      <td>31.286627</td>\n",
       "      <td>$ 1,254,157,730</td>\n",
       "    </tr>\n",
       "    <tr>\n",
       "      <th>MERCER</th>\n",
       "      <td>4.075710e+11</td>\n",
       "      <td>4.069554e+09</td>\n",
       "      <td>3428545.0</td>\n",
       "      <td>482</td>\n",
       "      <td>611</td>\n",
       "      <td>4.075710e+11</td>\n",
       "      <td>19.13%</td>\n",
       "      <td>17.12%</td>\n",
       "      <td>17.116832</td>\n",
       "      <td>$ 845,582,926</td>\n",
       "    </tr>\n",
       "    <tr>\n",
       "      <th>WTW</th>\n",
       "      <td>1.228572e+12</td>\n",
       "      <td>1.862066e+10</td>\n",
       "      <td>9013571.0</td>\n",
       "      <td>825</td>\n",
       "      <td>1066</td>\n",
       "      <td>1.228572e+12</td>\n",
       "      <td>50.29%</td>\n",
       "      <td>51.60%</td>\n",
       "      <td>51.596542</td>\n",
       "      <td>$ 1,489,177,646</td>\n",
       "    </tr>\n",
       "  </tbody>\n",
       "</table>\n",
       "</div>"
      ],
      "text/plain": [
       "             TOT_ASSETS_EOY_AMT  TOT_LIABILITIES_EOY_AMT  TOT_PARTCP_BOY_CNT  \\\n",
       "new_company                                                                    \n",
       "AON                7.449697e+11             5.412642e+09           5481861.0   \n",
       "MERCER             4.075710e+11             4.069554e+09           3428545.0   \n",
       "WTW                1.228572e+12             1.862066e+10           9013571.0   \n",
       "\n",
       "             SPONS_DFE_EIN  SPONS_DFE_PN           AUM Parts_ratio  \\\n",
       "new_company                                                          \n",
       "AON                    594           749  7.449697e+11      30.58%   \n",
       "MERCER                 482           611  4.075710e+11      19.13%   \n",
       "WTW                    825          1066  1.228572e+12      50.29%   \n",
       "\n",
       "            Assets_ratio        aux            ratio  \n",
       "new_company                                           \n",
       "AON               31.29%  31.286627  $ 1,254,157,730  \n",
       "MERCER            17.12%  17.116832    $ 845,582,926  \n",
       "WTW               51.60%  51.596542  $ 1,489,177,646  "
      ]
     },
     "execution_count": 31,
     "metadata": {},
     "output_type": "execute_result"
    }
   ],
   "source": [
    "\n",
    "(data[\"merged\"]\n",
    " .query('TYPE_PENSION_BNFT_CODE.str.contains(\"1\", na=False) & (TYPE_PLAN_ENTITY_CD != 1)')\n",
    " .dropna(subset=[\"SB_ACTUARY_FIRM_NAME\"])\n",
    " .assign(new_company=lambda df: (df[\"SB_ACTUARY_FIRM_NAME\"].apply(\n",
    "        lambda x: 'AON' if 'AON' in x \n",
    "        else 'MERCER' if 'MERCER' in x \n",
    "        else 'WTW' if any(keyword in x for keyword in ['WTW', 'WILLIS TOWERS', 'TOWERS WATSON']) \n",
    "        else None)))\n",
    " .dropna(subset=[\"SB_ACTUARY_FIRM_NAME\"])\n",
    " .groupby(\"new_company\")\n",
    " .agg({\"TOT_ASSETS_EOY_AMT\": \"sum\",\n",
    "       \"TOT_LIABILITIES_EOY_AMT\": \"sum\",\n",
    "       \"TOT_PARTCP_BOY_CNT\": \"sum\",\n",
    "       \"SPONS_DFE_EIN\": \"nunique\",\n",
    "       \"SPONS_DFE_PN\": \"size\"})\n",
    " .assign(\n",
    "    AUM=lambda df: df[\"TOT_ASSETS_EOY_AMT\"],\n",
    "    Parts_ratio=lambda df: (df[\"TOT_PARTCP_BOY_CNT\"] / df[\"TOT_PARTCP_BOY_CNT\"].sum() * 100).apply(\"{:.2f}%\".format),\n",
    "    Assets_ratio=lambda df: (df[\"TOT_ASSETS_EOY_AMT\"] / df[\"TOT_ASSETS_EOY_AMT\"].sum() * 100).apply(\"{:.2f}%\".format),\n",
    "    aux=lambda df: (df[\"TOT_ASSETS_EOY_AMT\"] / df[\"TOT_ASSETS_EOY_AMT\"].sum() * 100),\n",
    "    ratio=lambda df: (df[\"AUM\"] / df[\"SPONS_DFE_EIN\"]).apply(\"$ {:,.0f}\".format)\n",
    "    )\n",
    ")"
   ]
  },
  {
   "cell_type": "markdown",
   "metadata": {},
   "source": [
    "What's the smallest number of plan sponsors needed to cover 75% of all assets?"
   ]
  },
  {
   "cell_type": "code",
   "execution_count": 44,
   "metadata": {},
   "outputs": [
    {
     "data": {
      "image/png": "[encoded data removed]",
      "text/plain": [
       "<Figure size 640x480 with 1 Axes>"
      ]
     },
     "metadata": {},
     "output_type": "display_data"
    }
   ],
   "source": [
    "big_plans = big_plans.reset_index()\n",
    "\n",
    "# Assuming df is your DataFrame\n",
    "target_value = 80\n",
    "\n",
    "# Find the index where \"Accumulated\" is closest to 75\n",
    "closest_index = (big_plans[\"Accumulated\"] - target_value).abs().idxmin()\n",
    "\n",
    "# Plot the \"Accumulated\" column against the index\n",
    "big_plans[\"Accumulated\"].plot()\n",
    "\n",
    "# Add a marker at the closest index\n",
    "plt.scatter(closest_index, big_plans.loc[closest_index, \"Accumulated\"], color='red', label=f\"Closest to {target_value}\")\n",
    "\n",
    "# Annotate the index number next to the marker\n",
    "plt.annotate(f'Number of sponsors: {closest_index}', xy=(closest_index, big_plans.loc[closest_index, \"Accumulated\"]), xytext=(closest_index, big_plans.loc[closest_index, \"Accumulated\"] - 10),\n",
    "             arrowprops=dict(facecolor='black', arrowstyle='->'))\n",
    "\n",
    "plt.xlabel(\"Number of sponsors\")\n",
    "plt.ylabel(\"Accumulated Assets (%)\")\n",
    "plt.legend()\n",
    "plt.show()"
   ]
  }
 ],
 "metadata": {
  "kernelspec": {
   "display_name": ".venv",
   "language": "python",
   "name": "python3"
  },
  "language_info": {
   "codemirror_mode": {
    "name": "ipython",
    "version": 3
   },
   "file_extension": ".py",
   "mimetype": "text/x-python",
   "name": "python",
   "nbconvert_exporter": "python",
   "pygments_lexer": "ipython3",
   "version": "3.9.7"
  },
  "orig_nbformat": 4
 },
 "nbformat": 4,
 "nbformat_minor": 2
}
